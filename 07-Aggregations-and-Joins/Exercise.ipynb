{
 "cells": [
  {
   "cell_type": "markdown",
   "metadata": {},
   "source": [
    "# Exercise\n",
    "\n",
    "Follow the steps as instructed to practice the methods learned in the previous two notebooks.\n",
    "\n",
    "For this exercise we will the movie rating dataset from Movie Lens: \n",
    "\n",
    "Dataset source: https://grouplens.org/datasets/movielens/ \n",
    "\n",
    "100,000 ratings from 1000 users on 1700 movies. Released 1998.\n",
    "\n",
    "Data can be found in 02-Querying-Big-Data/data/movieLens-movie-rating.\n",
    "\n",
    "Let's first upload the data into our Google Cloud Storage. Use the same bucket as where your notebooks are being stored and the same data folder that we have been using so far. Modify the following cell to include your bucket name (replace it with \"is843\"):"
   ]
  },
  {
   "cell_type": "code",
   "execution_count": 1,
   "metadata": {},
   "outputs": [],
   "source": [
    "data = \"gs://is843/notebooks/jupyter/data/\""
   ]
  },
  {
   "cell_type": "markdown",
   "metadata": {},
   "source": [
    "Load the movies.csv file into a DataFrame and call it `movies_all`. Please note that the delimiter of this file is \" | \". We will be using an option to define the delimiter as shown below:\n",
    "\n",
    "```python\n",
    "movies_all = spark.read.format(\"csv\")\\\n",
    "  .option(\"delimiter\", \"|\")\\\n",
    "  ...\n",
    "```"
   ]
  },
  {
   "cell_type": "code",
   "execution_count": 2,
   "metadata": {},
   "outputs": [],
   "source": [
    "# your answer goes here..."
   ]
  },
  {
   "cell_type": "markdown",
   "metadata": {},
   "source": [
    "Check out the schema of this DataFrame and make sure that the first 3 columns have the correct data type:"
   ]
  },
  {
   "cell_type": "code",
   "execution_count": 4,
   "metadata": {},
   "outputs": [],
   "source": [
    "# your answer goes here..."
   ]
  },
  {
   "cell_type": "code",
   "execution_count": 5,
   "metadata": {},
   "outputs": [
    {
     "name": "stdout",
     "output_type": "stream",
     "text": [
      "root\n",
      " |-- movie_id: integer (nullable = true)\n",
      " |-- movie_title: string (nullable = true)\n",
      " |-- release_date: string (nullable = true)\n",
      " |-- video_release_date: string (nullable = true)\n",
      " |-- IMDb_URL: string (nullable = true)\n",
      " |-- unknown: integer (nullable = true)\n",
      " |-- Action: integer (nullable = true)\n",
      " |-- Adventure: integer (nullable = true)\n",
      " |-- Animation: integer (nullable = true)\n",
      " |-- Childrens: integer (nullable = true)\n",
      " |-- Comedy: integer (nullable = true)\n",
      " |-- Crime: integer (nullable = true)\n",
      " |-- Documentary: integer (nullable = true)\n",
      " |-- Drama: integer (nullable = true)\n",
      " |-- Fantasy: integer (nullable = true)\n",
      " |-- Film_Noir: integer (nullable = true)\n",
      " |-- Horror: integer (nullable = true)\n",
      " |-- Musical: integer (nullable = true)\n",
      " |-- Mystery: integer (nullable = true)\n",
      " |-- Romance: integer (nullable = true)\n",
      " |-- Sci_Fi: integer (nullable = true)\n",
      " |-- Thriller: integer (nullable = true)\n",
      " |-- War: integer (nullable = true)\n",
      " |-- Western: integer (nullable = true)\n",
      "\n"
     ]
    }
   ],
   "source": [
    "### Do not run this cell ###"
   ]
  },
  {
   "cell_type": "markdown",
   "metadata": {},
   "source": [
    "Check out the first few rows of this DataFrame:"
   ]
  },
  {
   "cell_type": "code",
   "execution_count": 6,
   "metadata": {},
   "outputs": [],
   "source": [
    "# your answer goes here..."
   ]
  },
  {
   "cell_type": "code",
   "execution_count": 7,
   "metadata": {},
   "outputs": [
    {
     "name": "stdout",
     "output_type": "stream",
     "text": [
      "+--------+-----------------+------------+------------------+--------------------+-------+------+---------+---------+---------+------+-----+-----------+-----+-------+---------+------+-------+-------+-------+------+--------+---+-------+\n",
      "|movie_id|      movie_title|release_date|video_release_date|            IMDb_URL|unknown|Action|Adventure|Animation|Childrens|Comedy|Crime|Documentary|Drama|Fantasy|Film_Noir|Horror|Musical|Mystery|Romance|Sci_Fi|Thriller|War|Western|\n",
      "+--------+-----------------+------------+------------------+--------------------+-------+------+---------+---------+---------+------+-----+-----------+-----+-------+---------+------+-------+-------+-------+------+--------+---+-------+\n",
      "|       1| Toy Story (1995)| 01-Jan-1995|              null|http://us.imdb.co...|      0|     0|        0|        1|        1|     1|    0|          0|    0|      0|        0|     0|      0|      0|      0|     0|       0|  0|      0|\n",
      "|       2| GoldenEye (1995)| 01-Jan-1995|              null|http://us.imdb.co...|      0|     1|        1|        0|        0|     0|    0|          0|    0|      0|        0|     0|      0|      0|      0|     0|       1|  0|      0|\n",
      "|       3|Four Rooms (1995)| 01-Jan-1995|              null|http://us.imdb.co...|      0|     0|        0|        0|        0|     0|    0|          0|    0|      0|        0|     0|      0|      0|      0|     0|       1|  0|      0|\n",
      "|       4|Get Shorty (1995)| 01-Jan-1995|              null|http://us.imdb.co...|      0|     1|        0|        0|        0|     1|    0|          0|    1|      0|        0|     0|      0|      0|      0|     0|       0|  0|      0|\n",
      "|       5|   Copycat (1995)| 01-Jan-1995|              null|http://us.imdb.co...|      0|     0|        0|        0|        0|     0|    1|          0|    1|      0|        0|     0|      0|      0|      0|     0|       1|  0|      0|\n",
      "+--------+-----------------+------------+------------------+--------------------+-------+------+---------+---------+---------+------+-----+-----------+-----+-------+---------+------+-------+-------+-------+------+--------+---+-------+\n",
      "only showing top 5 rows\n",
      "\n"
     ]
    }
   ],
   "source": [
    "### Do not run this cell ###"
   ]
  },
  {
   "cell_type": "markdown",
   "metadata": {},
   "source": [
    "We have too many fields that we won't be using. Let's create a new DataFrame off of `movies_all` and select only three columns `movie_id`, `movie_title`, and `release_date`. Call this DataFrame `movies`:"
   ]
  },
  {
   "cell_type": "code",
   "execution_count": 8,
   "metadata": {},
   "outputs": [],
   "source": [
    "# your answer goes here..."
   ]
  },
  {
   "cell_type": "code",
   "execution_count": 9,
   "metadata": {},
   "outputs": [],
   "source": [
    "### Do not run this cell ###"
   ]
  },
  {
   "cell_type": "code",
   "execution_count": 10,
   "metadata": {},
   "outputs": [
    {
     "name": "stdout",
     "output_type": "stream",
     "text": [
      "+--------+--------------------+------------+\n",
      "|movie_id|         movie_title|release_date|\n",
      "+--------+--------------------+------------+\n",
      "|       1|    Toy Story (1995)| 01-Jan-1995|\n",
      "|       2|    GoldenEye (1995)| 01-Jan-1995|\n",
      "|       3|   Four Rooms (1995)| 01-Jan-1995|\n",
      "|       4|   Get Shorty (1995)| 01-Jan-1995|\n",
      "|       5|      Copycat (1995)| 01-Jan-1995|\n",
      "|       6|Shanghai Triad (Y...| 01-Jan-1995|\n",
      "|       7|Twelve Monkeys (1...| 01-Jan-1995|\n",
      "|       8|         Babe (1995)| 01-Jan-1995|\n",
      "|       9|Dead Man Walking ...| 01-Jan-1995|\n",
      "|      10|  Richard III (1995)| 22-Jan-1996|\n",
      "+--------+--------------------+------------+\n",
      "only showing top 10 rows\n",
      "\n"
     ]
    }
   ],
   "source": [
    "movies.show(10)"
   ]
  },
  {
   "cell_type": "markdown",
   "metadata": {},
   "source": [
    "`show()` function has an option called `truncate` which is ON by default. It will truncate the strings longer than 20 cahracters. Turn it off and print the first 10 rows:"
   ]
  },
  {
   "cell_type": "code",
   "execution_count": 11,
   "metadata": {},
   "outputs": [],
   "source": [
    "# your answer goes here..."
   ]
  },
  {
   "cell_type": "code",
   "execution_count": 12,
   "metadata": {},
   "outputs": [
    {
     "name": "stdout",
     "output_type": "stream",
     "text": [
      "+--------+----------------------------------------------------+------------+\n",
      "|movie_id|movie_title                                         |release_date|\n",
      "+--------+----------------------------------------------------+------------+\n",
      "|1       |Toy Story (1995)                                    |01-Jan-1995 |\n",
      "|2       |GoldenEye (1995)                                    |01-Jan-1995 |\n",
      "|3       |Four Rooms (1995)                                   |01-Jan-1995 |\n",
      "|4       |Get Shorty (1995)                                   |01-Jan-1995 |\n",
      "|5       |Copycat (1995)                                      |01-Jan-1995 |\n",
      "|6       |Shanghai Triad (Yao a yao yao dao waipo qiao) (1995)|01-Jan-1995 |\n",
      "|7       |Twelve Monkeys (1995)                               |01-Jan-1995 |\n",
      "|8       |Babe (1995)                                         |01-Jan-1995 |\n",
      "|9       |Dead Man Walking (1995)                             |01-Jan-1995 |\n",
      "|10      |Richard III (1995)                                  |22-Jan-1996 |\n",
      "+--------+----------------------------------------------------+------------+\n",
      "only showing top 10 rows\n",
      "\n"
     ]
    }
   ],
   "source": [
    "### Do not run this cell ###"
   ]
  },
  {
   "cell_type": "markdown",
   "metadata": {},
   "source": [
    "Register `movies` DataFrame as a temporary view so that we can query it with SQL later. Give this temporary view the same name, `movies`:"
   ]
  },
  {
   "cell_type": "code",
   "execution_count": 13,
   "metadata": {},
   "outputs": [],
   "source": [
    "# your answer goes here..."
   ]
  },
  {
   "cell_type": "code",
   "execution_count": 14,
   "metadata": {},
   "outputs": [],
   "source": [
    "### Do not run this cell ###"
   ]
  },
  {
   "cell_type": "markdown",
   "metadata": {},
   "source": [
    "Let's confirm this table exists. Use `spark.sql()` to do a `SELECT *` query and then `show` the output:"
   ]
  },
  {
   "cell_type": "code",
   "execution_count": 15,
   "metadata": {},
   "outputs": [],
   "source": [
    "# your answer goes here..."
   ]
  },
  {
   "cell_type": "code",
   "execution_count": 16,
   "metadata": {},
   "outputs": [
    {
     "name": "stdout",
     "output_type": "stream",
     "text": [
      "+--------+-----------------+------------+\n",
      "|movie_id|      movie_title|release_date|\n",
      "+--------+-----------------+------------+\n",
      "|       1| Toy Story (1995)| 01-Jan-1995|\n",
      "|       2| GoldenEye (1995)| 01-Jan-1995|\n",
      "|       3|Four Rooms (1995)| 01-Jan-1995|\n",
      "|       4|Get Shorty (1995)| 01-Jan-1995|\n",
      "|       5|   Copycat (1995)| 01-Jan-1995|\n",
      "+--------+-----------------+------------+\n",
      "\n"
     ]
    }
   ],
   "source": [
    "### Do not run this cell ###"
   ]
  },
  {
   "cell_type": "markdown",
   "metadata": {},
   "source": [
    "Back to our `movies` DataFrame, select and print `movie_title` while chaning its name to `title`.\n",
    "\n",
    "Hint: use `selectExpr()`."
   ]
  },
  {
   "cell_type": "code",
   "execution_count": 17,
   "metadata": {},
   "outputs": [],
   "source": [
    "# your answer goes here..."
   ]
  },
  {
   "cell_type": "code",
   "execution_count": 18,
   "metadata": {},
   "outputs": [
    {
     "name": "stdout",
     "output_type": "stream",
     "text": [
      "+-----------------+\n",
      "|            title|\n",
      "+-----------------+\n",
      "| Toy Story (1995)|\n",
      "| GoldenEye (1995)|\n",
      "|Four Rooms (1995)|\n",
      "|Get Shorty (1995)|\n",
      "|   Copycat (1995)|\n",
      "+-----------------+\n",
      "only showing top 5 rows\n",
      "\n"
     ]
    }
   ],
   "source": [
    "### Do not run this cell ###"
   ]
  },
  {
   "cell_type": "markdown",
   "metadata": {},
   "source": [
    "How many rows does this DataFrame hold?"
   ]
  },
  {
   "cell_type": "code",
   "execution_count": 19,
   "metadata": {},
   "outputs": [],
   "source": [
    "# your answer goes here..."
   ]
  },
  {
   "cell_type": "code",
   "execution_count": 20,
   "metadata": {},
   "outputs": [
    {
     "data": {
      "text/plain": [
       "1682"
      ]
     },
     "execution_count": 20,
     "metadata": {},
     "output_type": "execute_result"
    }
   ],
   "source": [
    "### Do not run this cell ###"
   ]
  },
  {
   "cell_type": "markdown",
   "metadata": {},
   "source": [
    "Use `sample()` function to get a random list of movie names about 1% of total movies: \n",
    "\n",
    "Note: make sure there is no replacement in your sample."
   ]
  },
  {
   "cell_type": "code",
   "execution_count": 21,
   "metadata": {},
   "outputs": [],
   "source": [
    "# your answer goes here..."
   ]
  },
  {
   "cell_type": "code",
   "execution_count": 22,
   "metadata": {},
   "outputs": [
    {
     "name": "stdout",
     "output_type": "stream",
     "text": [
      "+----------------------------------------------------------+\n",
      "|movie_title                                               |\n",
      "+----------------------------------------------------------+\n",
      "|Firm, The (1993)                                          |\n",
      "|Horseman on the Roof, The (Hussard sur le toit, Le) (1995)|\n",
      "|Rock, The (1996)                                          |\n",
      "|Crossing Guard, The (1995)                                |\n",
      "|Daytrippers, The (1996)                                   |\n",
      "|It Happened One Night (1934)                              |\n",
      "|Looking for Richard (1996)                                |\n",
      "|Tango Lesson, The (1997)                                  |\n",
      "|Mrs. Dalloway (1997)                                      |\n",
      "|Newton Boys, The (1998)                                   |\n",
      "|When a Man Loves a Woman (1994)                           |\n",
      "|Full Speed (1996)                                         |\n",
      "|Penny Serenade (1941)                                     |\n",
      "|Day the Sun Turned Cold, The (Tianguo niezi) (1994)       |\n",
      "|Boys in Venice (1996)                                     |\n",
      "|Anna (1996)                                               |\n",
      "|Cosi (1996)                                               |\n",
      "|To Cross the Rubicon (1991)                               |\n",
      "|American Dream (1990)                                     |\n",
      "|Reluctant Debutante, The (1958)                           |\n",
      "+----------------------------------------------------------+\n",
      "\n"
     ]
    }
   ],
   "source": [
    "### Do not run this cell ###\n",
    "# Note: your answer will differ from mine because of the randomness."
   ]
  },
  {
   "cell_type": "markdown",
   "metadata": {},
   "source": [
    "Sort this DataFrame based on title in a descening order:"
   ]
  },
  {
   "cell_type": "code",
   "execution_count": 23,
   "metadata": {},
   "outputs": [],
   "source": [
    "# your answer goes here...\n",
    "from pyspark.sql.functions import desc, col"
   ]
  },
  {
   "cell_type": "code",
   "execution_count": 24,
   "metadata": {},
   "outputs": [
    {
     "name": "stdout",
     "output_type": "stream",
     "text": [
      "+--------+--------------------+------------+\n",
      "|movie_id|         movie_title|release_date|\n",
      "+--------+--------------------+------------+\n",
      "|    1633|� k�ldum klaka (C...| 08-Mar-1996|\n",
      "|     267|             unknown|        null|\n",
      "|    1164|Zeus and Roxanne ...| 10-Jan-1997|\n",
      "|     547|Young Poisoner's ...| 23-Feb-1996|\n",
      "|    1188|Young Guns II (1990)| 01-Jan-1990|\n",
      "|     232|   Young Guns (1988)| 01-Jan-1988|\n",
      "|     208|Young Frankenstei...| 01-Jan-1974|\n",
      "|    1681| You So Crazy (1994)| 01-Jan-1994|\n",
      "|     884|Year of the Horse...| 01-Jan-1997|\n",
      "|    1557|  Yankee Zulu (1994)| 16-Feb-1996|\n",
      "+--------+--------------------+------------+\n",
      "only showing top 10 rows\n",
      "\n"
     ]
    }
   ],
   "source": [
    "### Do not run this cell ###"
   ]
  },
  {
   "cell_type": "markdown",
   "metadata": {},
   "source": [
    "Rename `movie_title` to `title` in `movies` DataFrame:"
   ]
  },
  {
   "cell_type": "code",
   "execution_count": 25,
   "metadata": {},
   "outputs": [],
   "source": [
    "# your answer goes here..."
   ]
  },
  {
   "cell_type": "code",
   "execution_count": 26,
   "metadata": {},
   "outputs": [],
   "source": [
    "### Do not run this cell ###"
   ]
  },
  {
   "cell_type": "code",
   "execution_count": 27,
   "metadata": {},
   "outputs": [
    {
     "name": "stdout",
     "output_type": "stream",
     "text": [
      "+--------+-----------------+------------+\n",
      "|movie_id|title            |release_date|\n",
      "+--------+-----------------+------------+\n",
      "|1       |Toy Story (1995) |01-Jan-1995 |\n",
      "|2       |GoldenEye (1995) |01-Jan-1995 |\n",
      "|3       |Four Rooms (1995)|01-Jan-1995 |\n",
      "|4       |Get Shorty (1995)|01-Jan-1995 |\n",
      "|5       |Copycat (1995)   |01-Jan-1995 |\n",
      "+--------+-----------------+------------+\n",
      "only showing top 5 rows\n",
      "\n"
     ]
    }
   ],
   "source": [
    "movies.show(5, False)"
   ]
  },
  {
   "cell_type": "markdown",
   "metadata": {},
   "source": [
    "Use the following regular expression to extract the year from string `title`:\n",
    "\n",
    "`extract_str = '\\((\\d{4})\\)$'`\n",
    "\n",
    "This expression is doing the following:\n",
    "\n",
    "```\n",
    "\\(       # Match the character “(” literally\n",
    "(        # Match the regular expression below and capture its match into backreference number 1\n",
    "   \\d       # Match a single digit 0..9\n",
    "      {4}      # Exactly 4 times\n",
    ")\n",
    "\\)       # Match the character “)” literally\n",
    "$        # Assert position at the end of a line (at the end of the string or before a line break character)\n",
    "```\n",
    "\n",
    "Create a new column for it and call it `year`:"
   ]
  },
  {
   "cell_type": "code",
   "execution_count": 28,
   "metadata": {},
   "outputs": [],
   "source": [
    "# your answer goes here...\n",
    "from pyspark.sql.functions import regexp_extract"
   ]
  },
  {
   "cell_type": "code",
   "execution_count": 29,
   "metadata": {},
   "outputs": [
    {
     "name": "stdout",
     "output_type": "stream",
     "text": [
      "+--------+-----------------+------------+----+\n",
      "|movie_id|            title|release_date|year|\n",
      "+--------+-----------------+------------+----+\n",
      "|       1| Toy Story (1995)| 01-Jan-1995|1995|\n",
      "|       2| GoldenEye (1995)| 01-Jan-1995|1995|\n",
      "|       3|Four Rooms (1995)| 01-Jan-1995|1995|\n",
      "|       4|Get Shorty (1995)| 01-Jan-1995|1995|\n",
      "|       5|   Copycat (1995)| 01-Jan-1995|1995|\n",
      "+--------+-----------------+------------+----+\n",
      "only showing top 5 rows\n",
      "\n"
     ]
    }
   ],
   "source": [
    "### Do not run this cell ###"
   ]
  },
  {
   "cell_type": "markdown",
   "metadata": {},
   "source": [
    "Repeate the step above but this time use `release_date` and the following reg expression:\n",
    "\n",
    "`extract_str = '(\\d{4})'`\n",
    "\n",
    "Call this new column `release_year` and add it to the DataFrame `movies`:"
   ]
  },
  {
   "cell_type": "code",
   "execution_count": 30,
   "metadata": {},
   "outputs": [],
   "source": [
    "# your answer goes here...\n"
   ]
  },
  {
   "cell_type": "code",
   "execution_count": 31,
   "metadata": {},
   "outputs": [
    {
     "name": "stdout",
     "output_type": "stream",
     "text": [
      "+--------+-----------------+------------+----+------------+\n",
      "|movie_id|            title|release_date|year|release_year|\n",
      "+--------+-----------------+------------+----+------------+\n",
      "|       1| Toy Story (1995)| 01-Jan-1995|1995|        1995|\n",
      "|       2| GoldenEye (1995)| 01-Jan-1995|1995|        1995|\n",
      "|       3|Four Rooms (1995)| 01-Jan-1995|1995|        1995|\n",
      "|       4|Get Shorty (1995)| 01-Jan-1995|1995|        1995|\n",
      "|       5|   Copycat (1995)| 01-Jan-1995|1995|        1995|\n",
      "+--------+-----------------+------------+----+------------+\n",
      "only showing top 5 rows\n",
      "\n"
     ]
    }
   ],
   "source": [
    "### Do not run this cell ###"
   ]
  },
  {
   "cell_type": "markdown",
   "metadata": {},
   "source": [
    "Let's make sure we have non-null values for both of these new columns:"
   ]
  },
  {
   "cell_type": "code",
   "execution_count": 32,
   "metadata": {},
   "outputs": [
    {
     "name": "stdout",
     "output_type": "stream",
     "text": [
      "+--------+-----+------------+----+------------+\n",
      "|movie_id|title|release_date|year|release_year|\n",
      "+--------+-----+------------+----+------------+\n",
      "+--------+-----+------------+----+------------+\n",
      "\n"
     ]
    }
   ],
   "source": [
    "movies.where(col(\"year\").isNull()).show()"
   ]
  },
  {
   "cell_type": "code",
   "execution_count": 33,
   "metadata": {},
   "outputs": [
    {
     "name": "stdout",
     "output_type": "stream",
     "text": [
      "+--------+-----+------------+----+------------+\n",
      "|movie_id|title|release_date|year|release_year|\n",
      "+--------+-----+------------+----+------------+\n",
      "+--------+-----+------------+----+------------+\n",
      "\n"
     ]
    }
   ],
   "source": [
    "movies.where(col(\"release_year\").isNull()).show()"
   ]
  },
  {
   "cell_type": "markdown",
   "metadata": {},
   "source": [
    "Any empty string?"
   ]
  },
  {
   "cell_type": "code",
   "execution_count": 34,
   "metadata": {},
   "outputs": [
    {
     "name": "stdout",
     "output_type": "stream",
     "text": [
      "+--------+-------+------------+----+------------+\n",
      "|movie_id|  title|release_date|year|release_year|\n",
      "+--------+-------+------------+----+------------+\n",
      "|     267|unknown|        null|    |            |\n",
      "+--------+-------+------------+----+------------+\n",
      "\n"
     ]
    }
   ],
   "source": [
    "movies.where(\"release_year == ''\").show()"
   ]
  },
  {
   "cell_type": "code",
   "execution_count": 35,
   "metadata": {},
   "outputs": [
    {
     "name": "stdout",
     "output_type": "stream",
     "text": [
      "+--------+--------------------+------------+----+------------+\n",
      "|movie_id|               title|release_date|year|release_year|\n",
      "+--------+--------------------+------------+----+------------+\n",
      "|     267|             unknown|        null|    |            |\n",
      "|    1128|Heidi Fleiss: Hol...| 09-Feb-1996|    |        1995|\n",
      "|    1201|Marlene Dietrich:...| 02-Apr-1996|    |        1996|\n",
      "|    1412|Land Before Time ...| 01-Jan-1995|    |        1995|\n",
      "|    1635| Two Friends (1986) | 26-Apr-1986|    |        1986|\n",
      "+--------+--------------------+------------+----+------------+\n",
      "\n"
     ]
    }
   ],
   "source": [
    "movies.where(\"year == ''\").show()"
   ]
  },
  {
   "cell_type": "markdown",
   "metadata": {},
   "source": [
    "Let's check to see if these two columns have any mismatches?"
   ]
  },
  {
   "cell_type": "code",
   "execution_count": 36,
   "metadata": {},
   "outputs": [
    {
     "name": "stdout",
     "output_type": "stream",
     "text": [
      "+--------+-------------------------------------------------------------+------------+----+------------+\n",
      "|movie_id|title                                                        |release_date|year|release_year|\n",
      "+--------+-------------------------------------------------------------+------------+----+------------+\n",
      "|109     |Mystery Science Theater 3000: The Movie (1996)               |19-Apr-1996 |1996|3000        |\n",
      "|135     |2001: A Space Odyssey (1968)                                 |01-Jan-1968 |1968|2001        |\n",
      "|322     |Murder at 1600 (1997)                                        |18-Apr-1997 |1997|1600        |\n",
      "|362     |Blues Brothers 2000 (1998)                                   |06-Feb-1998 |1998|2000        |\n",
      "|1128    |Heidi Fleiss: Hollywood Madam (1995)                         |09-Feb-1996 |    |1995        |\n",
      "|1201    |Marlene Dietrich: Shadow and Light (1996)                    |02-Apr-1996 |    |1996        |\n",
      "|1412    |Land Before Time III: The Time of the Great Giving (1995) (V)|01-Jan-1995 |    |1995        |\n",
      "|1635    |Two Friends (1986)                                           |26-Apr-1986 |    |1986        |\n",
      "+--------+-------------------------------------------------------------+------------+----+------------+\n",
      "\n"
     ]
    }
   ],
   "source": [
    "movies.where(\"year != release_year\").show(10, False)"
   ]
  },
  {
   "cell_type": "markdown",
   "metadata": {},
   "source": [
    "We can see that we have 8 mismatches... can you go back to the regular expression that we used and enhance it?\n",
    "\n",
    "For now let's remove these from our `movies` DataFrame:"
   ]
  },
  {
   "cell_type": "code",
   "execution_count": 37,
   "metadata": {},
   "outputs": [
    {
     "data": {
      "text/plain": [
       "1674"
      ]
     },
     "execution_count": 37,
     "metadata": {},
     "output_type": "execute_result"
    }
   ],
   "source": [
    "movies = movies.where(\"year == release_year\")\n",
    "movies.count()"
   ]
  },
  {
   "cell_type": "markdown",
   "metadata": {},
   "source": [
    "Drop `release_date` and `release_year` columns from `movies`:"
   ]
  },
  {
   "cell_type": "code",
   "execution_count": 38,
   "metadata": {},
   "outputs": [],
   "source": [
    "# your answer goes here...\n"
   ]
  },
  {
   "cell_type": "code",
   "execution_count": 39,
   "metadata": {},
   "outputs": [
    {
     "name": "stdout",
     "output_type": "stream",
     "text": [
      "+--------+-----------------+----+\n",
      "|movie_id|            title|year|\n",
      "+--------+-----------------+----+\n",
      "|       1| Toy Story (1995)|1995|\n",
      "|       2| GoldenEye (1995)|1995|\n",
      "|       3|Four Rooms (1995)|1995|\n",
      "|       4|Get Shorty (1995)|1995|\n",
      "|       5|   Copycat (1995)|1995|\n",
      "+--------+-----------------+----+\n",
      "only showing top 5 rows\n",
      "\n"
     ]
    }
   ],
   "source": [
    "### Do not run this cell ###"
   ]
  },
  {
   "cell_type": "markdown",
   "metadata": {},
   "source": [
    "Use the function `length()` to count the number of characters for each title. Subtract 7 from each value to take into account the \" (xxxx)\" in all the titles.\n",
    "\n",
    "Call this new column `title_length`:"
   ]
  },
  {
   "cell_type": "code",
   "execution_count": 40,
   "metadata": {},
   "outputs": [],
   "source": [
    "# your answer goes here...\n",
    "from pyspark.sql.functions import col, length\n"
   ]
  },
  {
   "cell_type": "code",
   "execution_count": 41,
   "metadata": {},
   "outputs": [
    {
     "name": "stdout",
     "output_type": "stream",
     "text": [
      "+--------+-----------------+----+------------+\n",
      "|movie_id|            title|year|title_length|\n",
      "+--------+-----------------+----+------------+\n",
      "|       1| Toy Story (1995)|1995|           9|\n",
      "|       2| GoldenEye (1995)|1995|           9|\n",
      "|       3|Four Rooms (1995)|1995|          10|\n",
      "|       4|Get Shorty (1995)|1995|          10|\n",
      "|       5|   Copycat (1995)|1995|           7|\n",
      "+--------+-----------------+----+------------+\n",
      "only showing top 5 rows\n",
      "\n"
     ]
    }
   ],
   "source": [
    "### Do not run this cell ###"
   ]
  },
  {
   "cell_type": "markdown",
   "metadata": {},
   "source": [
    "Order `movies` by the `title_length` field in an ascending order:"
   ]
  },
  {
   "cell_type": "code",
   "execution_count": 42,
   "metadata": {},
   "outputs": [],
   "source": [
    "# your answer goes here...\n"
   ]
  },
  {
   "cell_type": "code",
   "execution_count": 43,
   "metadata": {},
   "outputs": [
    {
     "name": "stdout",
     "output_type": "stream",
     "text": [
      "+--------+-----------+----+------------+\n",
      "|movie_id|      title|year|title_length|\n",
      "+--------+-----------+----+------------+\n",
      "|     267|    unknown|    |           0|\n",
      "|     656|   M (1931)|1931|           1|\n",
      "|    1287|  Ed (1996)|1996|           2|\n",
      "|     330| 187 (1997)|1997|           3|\n",
      "|    1200| Kim (1950)|1950|           3|\n",
      "|     647| Ran (1985)|1985|           3|\n",
      "|     234|Jaws (1975)|1975|           4|\n",
      "|     283|Emma (1996)|1996|           4|\n",
      "|     409|Jack (1996)|1996|           4|\n",
      "|     149|Jude (1996)|1996|           4|\n",
      "|      49|I.Q. (1994)|1994|           4|\n",
      "|     732|Dave (1993)|1993|           4|\n",
      "|     975|Fear (1996)|1996|           4|\n",
      "|     976|Solo (1996)|1996|           4|\n",
      "|    1112|Cobb (1994)|1994|           4|\n",
      "|    1131|Safe (1995)|1995|           4|\n",
      "|     729|Nell (1994)|1994|           4|\n",
      "|    1387|Fall (1997)|1997|           4|\n",
      "|     569|Wolf (1994)|1994|           4|\n",
      "|     468|Rudy (1993)|1993|           4|\n",
      "+--------+-----------+----+------------+\n",
      "only showing top 20 rows\n",
      "\n"
     ]
    }
   ],
   "source": [
    "### Do not run this cell ###"
   ]
  },
  {
   "cell_type": "markdown",
   "metadata": {},
   "source": [
    "Let's remove the movie with the unkonwn title as it doesn't have a name or release date:"
   ]
  },
  {
   "cell_type": "code",
   "execution_count": 44,
   "metadata": {},
   "outputs": [],
   "source": [
    "# your answer goes here...\n"
   ]
  },
  {
   "cell_type": "code",
   "execution_count": 45,
   "metadata": {},
   "outputs": [
    {
     "data": {
      "text/plain": [
       "1673"
      ]
     },
     "execution_count": 45,
     "metadata": {},
     "output_type": "execute_result"
    }
   ],
   "source": [
    "### Do not run this cell ###"
   ]
  },
  {
   "cell_type": "markdown",
   "metadata": {},
   "source": [
    "Load the ratings.csv file into a DataFrame and call it `ratings`. Please note that the delimiter of this file is \"tab\" (or \"\\t\"). We will be using an option to define the delimiter:\n",
    "\n",
    "```python\n",
    "ratings = spark.read.format(\"csv\")\\\n",
    "  ...\n",
    "```"
   ]
  },
  {
   "cell_type": "code",
   "execution_count": 46,
   "metadata": {},
   "outputs": [],
   "source": [
    "# your answer goes here...\n"
   ]
  },
  {
   "cell_type": "code",
   "execution_count": 47,
   "metadata": {},
   "outputs": [],
   "source": [
    "### Do not run this cell ###"
   ]
  },
  {
   "cell_type": "code",
   "execution_count": 48,
   "metadata": {},
   "outputs": [
    {
     "name": "stdout",
     "output_type": "stream",
     "text": [
      "root\n",
      " |-- user_id: integer (nullable = true)\n",
      " |-- movie_id: integer (nullable = true)\n",
      " |-- rating: integer (nullable = true)\n",
      " |-- rating_timestamp: integer (nullable = true)\n",
      "\n"
     ]
    }
   ],
   "source": [
    "ratings.printSchema()"
   ]
  },
  {
   "cell_type": "code",
   "execution_count": 49,
   "metadata": {},
   "outputs": [
    {
     "data": {
      "text/plain": [
       "DataFrame[user_id: int, movie_id: int, rating: int, rating_timestamp: int]"
      ]
     },
     "execution_count": 49,
     "metadata": {},
     "output_type": "execute_result"
    }
   ],
   "source": [
    "ratings.cache()"
   ]
  },
  {
   "cell_type": "code",
   "execution_count": 50,
   "metadata": {},
   "outputs": [
    {
     "name": "stdout",
     "output_type": "stream",
     "text": [
      "+-------+--------+------+----------------+\n",
      "|user_id|movie_id|rating|rating_timestamp|\n",
      "+-------+--------+------+----------------+\n",
      "|    196|     242|     3|       881250949|\n",
      "|    186|     302|     3|       891717742|\n",
      "|     22|     377|     1|       878887116|\n",
      "|    244|      51|     2|       880606923|\n",
      "|    166|     346|     1|       886397596|\n",
      "|    298|     474|     4|       884182806|\n",
      "|    115|     265|     2|       881171488|\n",
      "|    253|     465|     5|       891628467|\n",
      "|    305|     451|     3|       886324817|\n",
      "|      6|      86|     3|       883603013|\n",
      "|     62|     257|     2|       879372434|\n",
      "|    286|    1014|     5|       879781125|\n",
      "|    200|     222|     5|       876042340|\n",
      "|    210|      40|     3|       891035994|\n",
      "|    224|      29|     3|       888104457|\n",
      "|    303|     785|     3|       879485318|\n",
      "|    122|     387|     5|       879270459|\n",
      "|    194|     274|     2|       879539794|\n",
      "|    291|    1042|     4|       874834944|\n",
      "|    234|    1184|     2|       892079237|\n",
      "+-------+--------+------+----------------+\n",
      "only showing top 20 rows\n",
      "\n"
     ]
    }
   ],
   "source": [
    "ratings.show()"
   ]
  },
  {
   "cell_type": "markdown",
   "metadata": {},
   "source": [
    "Create a new DataFrame called `ratings_agg` that includes the *avg_rating* and *total_ratings* for each *movie_id*:"
   ]
  },
  {
   "cell_type": "code",
   "execution_count": 51,
   "metadata": {},
   "outputs": [],
   "source": [
    "# your answer goes here...\n"
   ]
  },
  {
   "cell_type": "code",
   "execution_count": 52,
   "metadata": {},
   "outputs": [
    {
     "name": "stdout",
     "output_type": "stream",
     "text": [
      "+--------+------------------+-------------+\n",
      "|movie_id|        avg_rating|total_ratings|\n",
      "+--------+------------------+-------------+\n",
      "|     496| 4.121212121212121|          231|\n",
      "|     471|3.6108597285067874|          221|\n",
      "|     463| 3.859154929577465|           71|\n",
      "|     148|          3.203125|          128|\n",
      "|    1342|               2.5|            2|\n",
      "|     833| 3.204081632653061|           49|\n",
      "|    1088| 2.230769230769231|           13|\n",
      "|    1591|3.1666666666666665|            6|\n",
      "|    1238|             3.125|            8|\n",
      "|    1580|               1.0|            1|\n",
      "|    1645|               4.0|            1|\n",
      "|     392|3.5441176470588234|           68|\n",
      "|     623| 2.923076923076923|           39|\n",
      "|     540| 2.511627906976744|           43|\n",
      "|     858|               1.0|            3|\n",
      "|     737| 2.983050847457627|           59|\n",
      "|     243|2.4393939393939394|          132|\n",
      "|    1025|2.9318181818181817|           44|\n",
      "|    1084| 3.857142857142857|           21|\n",
      "|    1127| 2.909090909090909|           11|\n",
      "+--------+------------------+-------------+\n",
      "only showing top 20 rows\n",
      "\n"
     ]
    }
   ],
   "source": [
    "### Do not run this cell ###"
   ]
  },
  {
   "cell_type": "markdown",
   "metadata": {},
   "source": [
    "Remove the movies with less than 100 ratings. Save this DF with the same name as `ratings_agg`. How many movies are left?"
   ]
  },
  {
   "cell_type": "code",
   "execution_count": 53,
   "metadata": {},
   "outputs": [],
   "source": [
    "# your answer goes here...\n"
   ]
  },
  {
   "cell_type": "code",
   "execution_count": 54,
   "metadata": {},
   "outputs": [
    {
     "data": {
      "text/plain": [
       "338"
      ]
     },
     "execution_count": 54,
     "metadata": {},
     "output_type": "execute_result"
    }
   ],
   "source": [
    "### Do not run this cell ###"
   ]
  },
  {
   "cell_type": "markdown",
   "metadata": {},
   "source": [
    "Now let's join this DF with the `movies` DF to see which movies received the highest rating:. Call this new DF `popular_movies`:"
   ]
  },
  {
   "cell_type": "code",
   "execution_count": 55,
   "metadata": {},
   "outputs": [],
   "source": [
    "# your answer goes here...\n"
   ]
  },
  {
   "cell_type": "code",
   "execution_count": 56,
   "metadata": {},
   "outputs": [
    {
     "name": "stdout",
     "output_type": "stream",
     "text": [
      "+--------+------------------+-------------+--------------------+----+------------+\n",
      "|movie_id|        avg_rating|total_ratings|               title|year|title_length|\n",
      "+--------+------------------+-------------+--------------------+----+------------+\n",
      "|     496| 4.121212121212121|          231|It's a Wonderful ...|1946|          21|\n",
      "|     471|3.6108597285067874|          221|Courage Under Fir...|1996|          18|\n",
      "|     148|          3.203125|          128|Ghost and the Dar...|1996|          27|\n",
      "|     243|2.4393939393939394|          132|Jungle2Jungle (1997)|1997|          13|\n",
      "|      31|3.6298701298701297|          154| Crimson Tide (1995)|1995|          12|\n",
      "|     451| 3.347058823529412|          170|       Grease (1978)|1978|           6|\n",
      "|     137|3.9005847953216373|          171|    Big Night (1996)|1996|           9|\n",
      "|      65|3.5391304347826087|          115|What's Eating Gil...|1993|          27|\n",
      "|     879|3.2720588235294117|          136|Peacemaker, The (...|1997|          15|\n",
      "|     255|  3.36046511627907|          172|My Best Friend's ...|1997|          24|\n",
      "|     588| 3.792079207920792|          202|Beauty and the Be...|1991|          20|\n",
      "|      53|          2.953125|          128|Natural Born Kill...|1994|          20|\n",
      "|     133| 3.871345029239766|          171|Gone with the Win...|1939|          18|\n",
      "|     472|3.0822784810126582|          158|  Dragonheart (1996)|1996|          11|\n",
      "|    1016|  3.45985401459854|          137|      Con Air (1997)|1997|           7|\n",
      "|     321|3.1301775147928996|          169|       Mother (1996)|1996|           6|\n",
      "|     597| 3.150485436893204|          206|       Eraser (1996)|1996|           6|\n",
      "|     193| 3.917197452229299|          157|Right Stuff, The ...|1983|          16|\n",
      "|     211| 3.912621359223301|          206|      M*A*S*H (1970)|1970|           7|\n",
      "|     756|         2.8984375|          128|Father of the Bri...|1995|          27|\n",
      "+--------+------------------+-------------+--------------------+----+------------+\n",
      "only showing top 20 rows\n",
      "\n"
     ]
    }
   ],
   "source": [
    "### Do not run this cell ###\n",
    "# We will broadcast the movies DataFrame"
   ]
  },
  {
   "cell_type": "markdown",
   "metadata": {},
   "source": [
    "Sort this DF based on the ratings, round the ratings, and select and order the columns as below. Display the top 10 rated movies from this dataset:"
   ]
  },
  {
   "cell_type": "code",
   "execution_count": 57,
   "metadata": {},
   "outputs": [],
   "source": [
    "# your answer goes here...\n",
    "from pyspark.sql.functions import round"
   ]
  },
  {
   "cell_type": "code",
   "execution_count": 58,
   "metadata": {},
   "outputs": [
    {
     "name": "stdout",
     "output_type": "stream",
     "text": [
      "+--------------------------------+----+----------+-------------+\n",
      "|title                           |year|avg_rating|total_ratings|\n",
      "+--------------------------------+----+----------+-------------+\n",
      "|Close Shave, A (1995)           |1995|4.5       |112          |\n",
      "|Casablanca (1942)               |1942|4.5       |243          |\n",
      "|Wrong Trousers, The (1993)      |1993|4.5       |118          |\n",
      "|Schindler's List (1993)         |1993|4.5       |298          |\n",
      "|Rear Window (1954)              |1954|4.4       |209          |\n",
      "|Usual Suspects, The (1995)      |1995|4.4       |267          |\n",
      "|Star Wars (1977)                |1977|4.4       |583          |\n",
      "|Shawshank Redemption, The (1994)|1994|4.4       |283          |\n",
      "|Raiders of the Lost Ark (1981)  |1981|4.3       |420          |\n",
      "|Manchurian Candidate, The (1962)|1962|4.3       |131          |\n",
      "+--------------------------------+----+----------+-------------+\n",
      "only showing top 10 rows\n",
      "\n"
     ]
    }
   ],
   "source": [
    "### Do not run this cell ###"
   ]
  }
 ],
 "metadata": {
  "kernelspec": {
   "display_name": "PySpark",
   "language": "python",
   "name": "pyspark"
  },
  "language_info": {
   "codemirror_mode": {
    "name": "ipython",
    "version": 3
   },
   "file_extension": ".py",
   "mimetype": "text/x-python",
   "name": "python",
   "nbconvert_exporter": "python",
   "pygments_lexer": "ipython3",
   "version": "3.8.12"
  }
 },
 "nbformat": 4,
 "nbformat_minor": 4
}